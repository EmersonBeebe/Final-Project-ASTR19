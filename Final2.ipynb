{
 "cells": [
  {
   "cell_type": "code",
   "execution_count": 39,
   "id": "53037462-f1be-4035-8b9a-806ac36210cf",
   "metadata": {},
   "outputs": [
    {
     "name": "stdout",
     "output_type": "stream",
     "text": [
      "0.0\n",
      "0.0005398219218477607\n",
      "8641\n",
      "('thresh', 'npix', 'tnpix', 'xmin', 'xmax', 'ymin', 'ymax', 'x', 'y', 'x2', 'y2', 'xy', 'errx2', 'erry2', 'errxy', 'a', 'b', 'theta', 'cxx', 'cyy', 'cxy', 'cflux', 'flux', 'cpeak', 'peak', 'xcpeak', 'ycpeak', 'xpeak', 'ypeak', 'flag')\n",
      "object 0: flux = 0.031282 +/- 0.176890\n",
      "object 1: flux = 0.031018 +/- 0.176142\n",
      "object 2: flux = -0.024388 +/- 0.002883\n",
      "object 3: flux = 0.001947 +/- 0.044219\n",
      "object 4: flux = 0.012457 +/- 0.111649\n",
      "object 5: flux = -0.011228 +/- 0.002875\n",
      "object 6: flux = 0.029368 +/- 0.171394\n",
      "object 7: flux = -0.009126 +/- 0.002875\n",
      "object 8: flux = 0.048023 +/- 0.219161\n",
      "object 9: flux = 0.027840 +/- 0.166877\n"
     ]
    },
    {
     "name": "stderr",
     "output_type": "stream",
     "text": [
      "C:\\Users\\Savan\\AppData\\Local\\Temp\\ipykernel_10012\\1783109238.py:76: RuntimeWarning: invalid value encountered in log10\n",
      "  m_flux= -2.5*np.log10(flux) #since the numbers are large, logarithmic scale represents better (also used in lecture)\n"
     ]
    },
    {
     "data": {
      "image/png": "[encoded data removed]",
      "text/plain": [
       "<Figure size 1000x800 with 1 Axes>"
      ]
     },
     "metadata": {},
     "output_type": "display_data"
    },
    {
     "name": "stdout",
     "output_type": "stream",
     "text": [
      "mean: 0.3618090327919336, median: 0.030954822942148894, standard deviation: 9.242994204690572\n",
      "the largest outlier in the distribution has a flux of 807.2972835731507 and is at index 2067.\n",
      "this outlier is 87.30238888723534 standard deviations away from the mean.\n",
      "in the image, this outlier is found at position: (x, y)= (1914.2549094883857, 1134.3164850742164)\n"
     ]
    }
   ],
   "source": [
    "import numpy as np\n",
    "import sep\n",
    "\n",
    "# additional setup for reading the test image and displaying plots\n",
    "from astropy.io import fits\n",
    "import matplotlib.pyplot as plt\n",
    "from matplotlib import rcParams\n",
    "\n",
    "%matplotlib inline\n",
    "\n",
    "rcParams['figure.figsize'] = [10., 8.]\n",
    "\n",
    "# read image into standard 2-d numpy array\n",
    "with fits.open(\"hlsp_hudf12_hst_wfc3ir_udfmain_f105w_v1.0_drz.fits\") as hdul:\n",
    "    data = hdul[0].data.astype(np.float64)\n",
    "\n",
    "# show the image\n",
    "m, s = np.mean(data), np.std(data)\n",
    "plt.imshow(data, interpolation='nearest', cmap='gray', vmin=m-s, vmax=m+s, origin='lower')\n",
    "plt.colorbar()\n",
    "plt.savefig(\"original_image.png\")\n",
    "plt.close()\n",
    "\n",
    "# measure a spatially varying background on the image\n",
    "bkg = sep.Background(data)\n",
    "bkg = sep.Background(data, mask=None, bw=64, bh=64, fw=3, fh=3)\n",
    "# get a \"global\" mean and noise of the image background:\n",
    "print(bkg.globalback)\n",
    "print(bkg.globalrms)\n",
    "# evaluate background as 2-d array, same size as original image\n",
    "bkg_image = bkg.back()\n",
    "# show the background\n",
    "plt.imshow(bkg_image, interpolation='nearest', cmap='gray', origin='lower')\n",
    "plt.colorbar()\n",
    "plt.savefig(\"background_image.png\")\n",
    "plt.close()\n",
    "\n",
    "# subtract the background\n",
    "data_sub = data - bkg\n",
    "objects = sep.extract(data_sub, 1.5, err=bkg.globalrms)\n",
    "# number of sources is the length of objects\n",
    "sources = len(objects)\n",
    "# how many objects were detected\n",
    "print(len(objects))\n",
    "\n",
    "from matplotlib.patches import Ellipse\n",
    "# plot background-subtracted image\n",
    "fig, ax = plt.subplots()\n",
    "m, s = np.mean(data_sub), np.std(data_sub)\n",
    "im = ax.imshow(data_sub, interpolation=\"nearest\", cmap=\"gray\",\n",
    "               vmin=m-s, vmax=m+s, origin='lower')\n",
    "\n",
    "# plot an ellipse on the image around each object \n",
    "for i in range(len(objects)):\n",
    "    e = Ellipse(xy=(objects[\"x\"][i], objects[\"y\"][i]),\n",
    "                width=6*objects[\"a\"][i],\n",
    "                height=6*objects[\"b\"][i],\n",
    "                angle=objects[\"theta\"][i] * 180. / np.pi)\n",
    "    e.set_facecolor(\"none\")\n",
    "    e.set_edgecolor(\"red\")\n",
    "    ax.add_artist(e)\n",
    "plt.savefig(\"background_subtracted_image.png\")\n",
    "plt.close()\n",
    "\n",
    "# available fields\n",
    "print(objects.dtype.names)\n",
    "\n",
    "flux, fluxerr, flag = sep.sum_circle(data_sub, objects['x'], objects['y'],\n",
    "                                     3.0, err=bkg.globalrms, gain=1.0)\n",
    "# show the first 10 objects results:\n",
    "for i in range(10):\n",
    "    print(\"object {:d}: flux = {:f} +/- {:f}\".format(i, flux[i], fluxerr[i]))\n",
    "\n",
    "# Plotting histogram for fluxes for each object\n",
    "flux, fluxerr, flag = sep.sum_circle(data_sub, objects['x'], objects['y'], 3.0, err=bkg.globalrms, gain=1.0)\n",
    "m_flux= -2.5*np.log10(flux) #since the numbers are large, logarithmic scale represents better (also used in lecture)\n",
    "plt.hist(m_flux, range=[-10, 10], bins= 1000, alpha=0.5) \n",
    "plt.title(\"flux distributuon\")\n",
    "plt.xlabel(\"flux\")\n",
    "plt.ylabel(\"total number of sources\")\n",
    "plt.savefig(\"histogram.png\")\n",
    "plt.show()\n",
    "\n",
    "#Question 7: mean, median, max, and stdev for flux\n",
    "f_mean= np.mean(flux)\n",
    "f_median= np.median(flux)\n",
    "f_stdev= np.std(flux)\n",
    "f_max=np.max(flux)\n",
    "outlier_place=np.argmax(flux) #finds the index of the outlier object with the greatest flux\n",
    "num_stdev= ((f_max-f_mean)/f_stdev) #counts how many standard deviations the outlier is from the mean\n",
    "\n",
    "print(f\"mean: {f_mean}, median: {f_median}, standard deviation: {f_stdev}\")\n",
    "\n",
    "#using outlier position to print the outlier and find its location in the image\n",
    "large_x, large_y = objects[\"x\"][outlier_place], objects[\"y\"][outlier_place]\n",
    "print(f\"the largest outlier in the distribution has a flux of {f_max} and is at index {outlier_place}.\")\n",
    "print(f\"this outlier is {num_stdev} standard deviations away from the mean.\")\n",
    "print(f\"in the image, this outlier is found at position: (x, y)= ({large_x}, {large_y})\")\n",
    "\n"
   ]
  },
  {
   "cell_type": "code",
   "execution_count": null,
   "id": "84e60a22-e33f-44b5-a423-9428505d489c",
   "metadata": {},
   "outputs": [],
   "source": []
  },
  {
   "cell_type": "code",
   "execution_count": null,
   "id": "33550b5e-edc8-4103-b35c-8e156665cff4",
   "metadata": {},
   "outputs": [],
   "source": []
  }
 ],
 "metadata": {
  "kernelspec": {
   "display_name": "Python 3 (ipykernel)",
   "language": "python",
   "name": "python3"
  },
  "language_info": {
   "codemirror_mode": {
    "name": "ipython",
    "version": 3
   },
   "file_extension": ".py",
   "mimetype": "text/x-python",
   "name": "python",
   "nbconvert_exporter": "python",
   "pygments_lexer": "ipython3",
   "version": "3.12.3"
  }
 },
 "nbformat": 4,
 "nbformat_minor": 5
}
